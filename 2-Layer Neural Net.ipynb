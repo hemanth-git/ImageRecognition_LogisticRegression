{
 "cells": [
  {
   "cell_type": "markdown",
   "metadata": {},
   "source": [
    "# 2 - Layer Neural network\n",
    "\n",
    "1. Size of layers and initializing parameters weights and bias\n",
    "2. Forward propagation\n",
    "3. Loss function and Cost function\n",
    "4. Backward propagation\n",
    "5. Update Parameters\n",
    "6. Prediction with learnt parameters weight and bias\n",
    "7. Create Model"
   ]
  },
  {
   "cell_type": "markdown",
   "metadata": {},
   "source": [
    "Inital weights will be small If they are very large initially, this will cause the inputs of the tanh to be very large, thus causing gradients to be close to zero. The optimization algorithm will be slow.\n",
    "\n",
    "Bias can be zero initially"
   ]
  },
  {
   "cell_type": "code",
   "execution_count": 1,
   "metadata": {},
   "outputs": [],
   "source": [
    "import numpy as np\n",
    "import matplotlib.pyplot as plt\n",
    "import pandas as pd\n",
    "import warnings\n",
    "# filter warnings\n",
    "warnings.filterwarnings('ignore')"
   ]
  },
  {
   "cell_type": "code",
   "execution_count": 2,
   "metadata": {},
   "outputs": [
    {
     "data": {
      "text/plain": [
       "((4096, 348), (4096, 62), (1, 348), (1, 62))"
      ]
     },
     "execution_count": 2,
     "metadata": {},
     "output_type": "execute_result"
    }
   ],
   "source": [
    "# importing the data set of images into numpy data\n",
    "x_l= np.load('Signs_Data/X.npy')\n",
    "y_l= np.load('Signs_Data/Y.npy')\n",
    "x_l.shape\n",
    "y_l.shape\n",
    "X=np.concatenate((x_l[204:409],x_l[822:1027]),axis=0)\n",
    "z = np.zeros(205)\n",
    "o = np.ones(205)\n",
    "Y=np.concatenate((z,o),axis=0).reshape(X.shape[0],1)\n",
    "from sklearn.model_selection import train_test_split\n",
    "X_train, X_test, Y_train, Y_test = train_test_split(X, Y, test_size=0.15, random_state=42)\n",
    "number_of_train = X_train.shape[0]\n",
    "number_of_test = X_test.shape[0]\n",
    "\n",
    "X_train_flatten = X_train.reshape(number_of_train,X_train.shape[1]*X_train.shape[2])\n",
    "X_test_flatten = X_test.reshape(number_of_test,X_test.shape[1]*X_test.shape[2])\n",
    "\n",
    "X_train_flatten.shape,X_test_flatten.shape\n",
    "\n",
    "x_train = X_train_flatten.T\n",
    "x_test = X_test_flatten.T\n",
    "y_train = Y_train.T\n",
    "y_test = Y_test.T\n",
    "\n",
    "x_train.shape,x_test.shape,y_train.shape,y_test.shape"
   ]
  },
  {
   "cell_type": "code",
   "execution_count": 20,
   "metadata": {},
   "outputs": [],
   "source": [
    "# intialize parameters and layer sizes\n",
    "def initialize_parameters_and_layer_sizes_NN(x_train,y_train):\n",
    "    parameters={\"weight1\":np.random.randn(3,x_train.shape[0])*0.1,\n",
    "               \"bias1\":np.zeros((3,1)),\n",
    "                \"weight2\":np.random.randn(y_train.shape[0],3)*0.1,\n",
    "                \"bias2\":np.zeros((y_train.shape[0],1))\n",
    "               }\n",
    "    return parameters"
   ]
  },
  {
   "cell_type": "code",
   "execution_count": 23,
   "metadata": {},
   "outputs": [],
   "source": [
    "def sigmoid(z):\n",
    "    y_head= 1/(1+np.exp(-z))\n",
    "    return y_head"
   ]
  },
  {
   "cell_type": "markdown",
   "metadata": {},
   "source": [
    "## forward propagation\n",
    "we use tanh(x)"
   ]
  },
  {
   "cell_type": "code",
   "execution_count": 25,
   "metadata": {},
   "outputs": [],
   "source": [
    "def forward_propagation_NN(x_train, parameters):\n",
    "\n",
    "    Z1 = np.dot(parameters[\"weight1\"],x_train) +parameters[\"bias1\"]\n",
    "    A1 = np.tanh(Z1)\n",
    "    Z2 = np.dot(parameters[\"weight2\"],A1) + parameters[\"bias2\"]\n",
    "    A2 = sigmoid(Z2)\n",
    "\n",
    "    cache = {\"Z1\": Z1,\n",
    "             \"A1\": A1,\n",
    "             \"Z2\": Z2,\n",
    "             \"A2\": A2}\n",
    "    \n",
    "    return A2, cache"
   ]
  },
  {
   "cell_type": "markdown",
   "metadata": {},
   "source": [
    "## Loss function and Cost function\n",
    "\n",
    "Loss and cost functions are same with logistic regression\n",
    "\n",
    "Cross entropy function"
   ]
  },
  {
   "cell_type": "code",
   "execution_count": 14,
   "metadata": {},
   "outputs": [],
   "source": [
    "def compute_cost_NN(a2,Y,parameters):\n",
    "    logprobs= np.multiply(np.log(a2),Y)\n",
    "    cost=-np.sum(logprobs)/Y.shape[1]\n",
    "    return cost"
   ]
  },
  {
   "cell_type": "markdown",
   "metadata": {},
   "source": [
    "## Backward propagation\n",
    " Back propagation is the derivative of the function and it is same as logistic"
   ]
  },
  {
   "cell_type": "code",
   "execution_count": 15,
   "metadata": {},
   "outputs": [],
   "source": [
    "def backward_propagation_NN(parameters,cache,X,Y):\n",
    "    dZ2=cache[\"A2\"]-Y\n",
    "    dW2 = np.dot(dZ2,cache[\"A1\"].T)/X.shape[1]\n",
    "    db2 = np.sum(dZ2,axis =1,keepdims=True)/X.shape[1]\n",
    "    dZ1 = np.dot(parameters[\"weight2\"].T,dZ2)*(1 - np.power(cache[\"A1\"], 2))\n",
    "    dW1 = np.dot(dZ1,X.T)/X.shape[1]\n",
    "    db1 = np.sum(dZ1,axis =1,keepdims=True)/X.shape[1]\n",
    "    grads = {\"dweight1\": dW1,\n",
    "             \"dbias1\": db1,\n",
    "             \"dweight2\": dW2,\n",
    "             \"dbias2\": db2}\n",
    "    return grads\n",
    "    "
   ]
  },
  {
   "cell_type": "markdown",
   "metadata": {},
   "source": [
    "## updating the parameters\n",
    "\n",
    "weights-learning_rate*dweights"
   ]
  },
  {
   "cell_type": "code",
   "execution_count": 16,
   "metadata": {},
   "outputs": [],
   "source": [
    "def update_parameters_NN(parameters,grads,learning_rate=0.01):\n",
    "    parameters={\n",
    "            \"weight1\": parameters[\"weight1\"]-learning_rate*grads[\"dweight1\"],\n",
    "            \"bias1\": parameters[\"bias1\"]-learning_rate*grads[\"dbias1\"],\n",
    "            \"weight2\": parameters[\"weight2\"]-learning_rate*grads[\"dweight2\"],\n",
    "            \"bias2\": parameters[\"bias2\"]-learning_rate*grads[\"dbias2\"]\n",
    "        }\n",
    "    return parameters"
   ]
  },
  {
   "cell_type": "markdown",
   "metadata": {},
   "source": [
    "## prediction with learnt parameters"
   ]
  },
  {
   "cell_type": "code",
   "execution_count": 17,
   "metadata": {},
   "outputs": [],
   "source": [
    "def predict_NN(parameters,x_test):\n",
    "    A2, cache = forward_propagation_NN(x_test,parameters)\n",
    "    Y_prediction = np.zeros((1,x_test.shape[1]))\n",
    "    for i in range(A2.shape[1]):\n",
    "        if A2[0,i]<= 0.5:\n",
    "            Y_prediction[0,i] = 0\n",
    "        else:\n",
    "            Y_prediction[0,i] = 1\n",
    "            \n",
    "    return Y_prediction"
   ]
  },
  {
   "cell_type": "markdown",
   "metadata": {},
   "source": [
    "## Putting all together to form a predictive model"
   ]
  },
  {
   "cell_type": "code",
   "execution_count": 18,
   "metadata": {},
   "outputs": [],
   "source": [
    "def two_layer_neural_network(x_train, y_train,x_test,y_test, num_iterations):\n",
    "    cost_list = []\n",
    "    index_list = []\n",
    "    \n",
    "    #initialize parameters and layer sizes\n",
    "    parameters = initialize_parameters_and_layer_sizes_NN(x_train, y_train)\n",
    "    \n",
    "    for i in range(0, num_iterations):\n",
    "        # forward propagation\n",
    "        A2, cache = forward_propagation_NN(x_train,parameters)\n",
    "        # compute cost\n",
    "        cost = compute_cost_NN(A2, y_train, parameters)\n",
    "        # backward propagation\n",
    "        grads = backward_propagation_NN(parameters, cache, x_train, y_train)\n",
    "        # update parameters\n",
    "        parameters = update_parameters_NN(parameters, grads)\n",
    "        # printing the cost for every 100 iterations\n",
    "        if i % 100 == 0:\n",
    "            cost_list.append(cost)\n",
    "            index_list.append(i)\n",
    "            print (\"Cost after iteration %i: %f\" %(i, cost))\n",
    "    # plot of iterations Vs cost\n",
    "    \n",
    "    plt.plot(index_list,cost_list)\n",
    "    plt.xticks(index_list,rotation='vertical')\n",
    "    plt.xlabel(\"Number of Iterarion\")\n",
    "    plt.ylabel(\"Cost\")\n",
    "    plt.show()\n",
    "    \n",
    "    # predict\n",
    "    y_prediction_test = predict_NN(parameters,x_test)\n",
    "    y_prediction_train = predict_NN(parameters,x_train)    \n",
    "    print(\"train accuracy: {} %\".format(100 - np.mean(np.abs(y_prediction_train - y_train)) * 100))\n",
    "    print(\"test accuracy: {} %\".format(100 - np.mean(np.abs(y_prediction_test - y_test)) * 100))\n",
    "    return parameters"
   ]
  },
  {
   "cell_type": "code",
   "execution_count": 26,
   "metadata": {},
   "outputs": [
    {
     "name": "stdout",
     "output_type": "stream",
     "text": [
      "Cost after iteration 0: 0.303923\n",
      "Cost after iteration 100: 0.310447\n",
      "Cost after iteration 200: 0.284531\n",
      "Cost after iteration 300: 0.241786\n",
      "Cost after iteration 400: 0.203581\n",
      "Cost after iteration 500: 0.171970\n",
      "Cost after iteration 600: 0.146955\n",
      "Cost after iteration 700: 0.127301\n",
      "Cost after iteration 800: 0.111777\n",
      "Cost after iteration 900: 0.099349\n",
      "Cost after iteration 1000: 0.089176\n",
      "Cost after iteration 1100: 0.080681\n",
      "Cost after iteration 1200: 0.073532\n",
      "Cost after iteration 1300: 0.067511\n",
      "Cost after iteration 1400: 0.062378\n",
      "Cost after iteration 1500: 0.057842\n",
      "Cost after iteration 1600: 0.053602\n",
      "Cost after iteration 1700: 0.049553\n",
      "Cost after iteration 1800: 0.045978\n",
      "Cost after iteration 1900: 0.043062\n",
      "Cost after iteration 2000: 0.040674\n",
      "Cost after iteration 2100: 0.038653\n",
      "Cost after iteration 2200: 0.036887\n",
      "Cost after iteration 2300: 0.035298\n",
      "Cost after iteration 2400: 0.033815\n"
     ]
    },
    {
     "data": {
      "image/png": "[encoded data removed]",
      "text/plain": [
       "<Figure size 432x288 with 1 Axes>"
      ]
     },
     "metadata": {},
     "output_type": "display_data"
    },
    {
     "name": "stdout",
     "output_type": "stream",
     "text": [
      "train accuracy: 99.42528735632185 %\n",
      "test accuracy: 95.16129032258064 %\n"
     ]
    }
   ],
   "source": [
    "parameters = two_layer_neural_network(x_train, y_train,x_test,y_test, num_iterations=2500)"
   ]
  },
  {
   "cell_type": "code",
   "execution_count": null,
   "metadata": {},
   "outputs": [],
   "source": []
  }
 ],
 "metadata": {
  "kernelspec": {
   "display_name": "Python 3",
   "language": "python",
   "name": "python3"
  },
  "language_info": {
   "codemirror_mode": {
    "name": "ipython",
    "version": 3
   },
   "file_extension": ".py",
   "mimetype": "text/x-python",
   "name": "python",
   "nbconvert_exporter": "python",
   "pygments_lexer": "ipython3",
   "version": "3.6.5"
  }
 },
 "nbformat": 4,
 "nbformat_minor": 2
}
